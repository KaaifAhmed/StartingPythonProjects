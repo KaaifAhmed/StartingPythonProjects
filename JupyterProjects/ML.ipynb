{
 "cells": [
  {
   "cell_type": "markdown",
   "id": "4c78cff8",
   "metadata": {},
   "source": [
    "### Machine Learning\n",
    "* Supervised Learning\n",
    "* Unsupervised Learning\n",
    "* Reinforcement Learning\n",
    "\n",
    "#### Supervised\n",
    "* input, output\n",
    "    #### Regression / Classification\n",
    "    * Regression >>>>> for continuous target feature\n",
    "    \n",
    "    * Classification >>>> Classes \n",
    "\n",
    "\n",
    "#### Unsupervised\n",
    "* No output/ label >>>>> Clustering\n",
    "\n",
    "#### Reinforcement\n",
    "* Learn through penalty and reward"
   ]
  },
  {
   "cell_type": "code",
   "execution_count": null,
   "id": "671e5b2c",
   "metadata": {},
   "outputs": [],
   "source": []
  },
  {
   "cell_type": "code",
   "execution_count": null,
   "id": "fbeccb4f",
   "metadata": {},
   "outputs": [],
   "source": []
  },
  {
   "cell_type": "code",
   "execution_count": null,
   "id": "8a5b3544",
   "metadata": {},
   "outputs": [],
   "source": []
  },
  {
   "cell_type": "code",
   "execution_count": null,
   "id": "fd4c8dea",
   "metadata": {},
   "outputs": [],
   "source": []
  },
  {
   "cell_type": "code",
   "execution_count": 172,
   "id": "ef3fe127",
   "metadata": {},
   "outputs": [],
   "source": [
    "import pandas as pd\n",
    "import numpy as np\n",
    "import matplotlib.pyplot as plt"
   ]
  },
  {
   "cell_type": "code",
   "execution_count": null,
   "id": "e1e0d7cc",
   "metadata": {},
   "outputs": [],
   "source": []
  },
  {
   "cell_type": "code",
   "execution_count": 9,
   "id": "03999902",
   "metadata": {
    "scrolled": false
   },
   "outputs": [],
   "source": [
    "# df = pd.DataFrame({'Feature_1':F1_, 'Feature_2':F2_, 'Feature_3':F3_, 'Target':T2_})"
   ]
  },
  {
   "cell_type": "markdown",
   "id": "64c28f76",
   "metadata": {},
   "source": [
    "### Importing the data"
   ]
  },
  {
   "cell_type": "code",
   "execution_count": 11,
   "id": "a63413d7",
   "metadata": {},
   "outputs": [],
   "source": [
    "df = pd.read_csv('dataset.csv')"
   ]
  },
  {
   "cell_type": "code",
   "execution_count": 12,
   "id": "63bd7792",
   "metadata": {},
   "outputs": [
    {
     "name": "stdout",
     "output_type": "stream",
     "text": [
      "<class 'pandas.core.frame.DataFrame'>\n",
      "RangeIndex: 300 entries, 0 to 299\n",
      "Data columns (total 4 columns):\n",
      " #   Column     Non-Null Count  Dtype  \n",
      "---  ------     --------------  -----  \n",
      " 0   Feature_1  300 non-null    float64\n",
      " 1   Feature_2  300 non-null    float64\n",
      " 2   Feature_3  300 non-null    float64\n",
      " 3   Target     300 non-null    float64\n",
      "dtypes: float64(4)\n",
      "memory usage: 9.5 KB\n"
     ]
    }
   ],
   "source": [
    "df.info()"
   ]
  },
  {
   "cell_type": "code",
   "execution_count": 13,
   "id": "16f0eb42",
   "metadata": {},
   "outputs": [
    {
     "data": {
      "text/plain": [
       "Feature_1    0\n",
       "Feature_2    0\n",
       "Feature_3    0\n",
       "Target       0\n",
       "dtype: int64"
      ]
     },
     "execution_count": 13,
     "metadata": {},
     "output_type": "execute_result"
    }
   ],
   "source": [
    "df.isnull().sum()"
   ]
  },
  {
   "cell_type": "code",
   "execution_count": 14,
   "id": "fafbfe63",
   "metadata": {},
   "outputs": [
    {
     "data": {
      "text/plain": [
       "0      0.519922\n",
       "1      0.166809\n",
       "2      0.471747\n",
       "3      0.070557\n",
       "4      0.221034\n",
       "         ...   \n",
       "295    0.998954\n",
       "296    0.389154\n",
       "297    0.924007\n",
       "298    0.689523\n",
       "299    0.461582\n",
       "Name: Feature_1, Length: 300, dtype: float64"
      ]
     },
     "execution_count": 14,
     "metadata": {},
     "output_type": "execute_result"
    }
   ],
   "source": [
    "df['Feature_1']   ##### Series"
   ]
  },
  {
   "cell_type": "code",
   "execution_count": 15,
   "id": "41af3807",
   "metadata": {},
   "outputs": [
    {
     "data": {
      "text/html": [
       "<div>\n",
       "<style scoped>\n",
       "    .dataframe tbody tr th:only-of-type {\n",
       "        vertical-align: middle;\n",
       "    }\n",
       "\n",
       "    .dataframe tbody tr th {\n",
       "        vertical-align: top;\n",
       "    }\n",
       "\n",
       "    .dataframe thead th {\n",
       "        text-align: right;\n",
       "    }\n",
       "</style>\n",
       "<table border=\"1\" class=\"dataframe\">\n",
       "  <thead>\n",
       "    <tr style=\"text-align: right;\">\n",
       "      <th></th>\n",
       "      <th>Feature_1</th>\n",
       "      <th>Feature_2</th>\n",
       "    </tr>\n",
       "  </thead>\n",
       "  <tbody>\n",
       "    <tr>\n",
       "      <th>0</th>\n",
       "      <td>0.519922</td>\n",
       "      <td>0.172053</td>\n",
       "    </tr>\n",
       "    <tr>\n",
       "      <th>1</th>\n",
       "      <td>0.166809</td>\n",
       "      <td>0.116245</td>\n",
       "    </tr>\n",
       "    <tr>\n",
       "      <th>2</th>\n",
       "      <td>0.471747</td>\n",
       "      <td>0.544830</td>\n",
       "    </tr>\n",
       "    <tr>\n",
       "      <th>3</th>\n",
       "      <td>0.070557</td>\n",
       "      <td>0.576866</td>\n",
       "    </tr>\n",
       "    <tr>\n",
       "      <th>4</th>\n",
       "      <td>0.221034</td>\n",
       "      <td>0.389579</td>\n",
       "    </tr>\n",
       "    <tr>\n",
       "      <th>...</th>\n",
       "      <td>...</td>\n",
       "      <td>...</td>\n",
       "    </tr>\n",
       "    <tr>\n",
       "      <th>295</th>\n",
       "      <td>0.998954</td>\n",
       "      <td>0.758291</td>\n",
       "    </tr>\n",
       "    <tr>\n",
       "      <th>296</th>\n",
       "      <td>0.389154</td>\n",
       "      <td>0.641584</td>\n",
       "    </tr>\n",
       "    <tr>\n",
       "      <th>297</th>\n",
       "      <td>0.924007</td>\n",
       "      <td>0.057771</td>\n",
       "    </tr>\n",
       "    <tr>\n",
       "      <th>298</th>\n",
       "      <td>0.689523</td>\n",
       "      <td>0.191863</td>\n",
       "    </tr>\n",
       "    <tr>\n",
       "      <th>299</th>\n",
       "      <td>0.461582</td>\n",
       "      <td>0.775377</td>\n",
       "    </tr>\n",
       "  </tbody>\n",
       "</table>\n",
       "<p>300 rows × 2 columns</p>\n",
       "</div>"
      ],
      "text/plain": [
       "     Feature_1  Feature_2\n",
       "0     0.519922   0.172053\n",
       "1     0.166809   0.116245\n",
       "2     0.471747   0.544830\n",
       "3     0.070557   0.576866\n",
       "4     0.221034   0.389579\n",
       "..         ...        ...\n",
       "295   0.998954   0.758291\n",
       "296   0.389154   0.641584\n",
       "297   0.924007   0.057771\n",
       "298   0.689523   0.191863\n",
       "299   0.461582   0.775377\n",
       "\n",
       "[300 rows x 2 columns]"
      ]
     },
     "execution_count": 15,
     "metadata": {},
     "output_type": "execute_result"
    }
   ],
   "source": [
    "df[['Feature_1', 'Feature_2']] ### Dataframe"
   ]
  },
  {
   "cell_type": "code",
   "execution_count": 16,
   "id": "4500a00f",
   "metadata": {},
   "outputs": [
    {
     "data": {
      "text/plain": [
       "(300, 4)"
      ]
     },
     "execution_count": 16,
     "metadata": {},
     "output_type": "execute_result"
    }
   ],
   "source": [
    "df.shape"
   ]
  },
  {
   "cell_type": "markdown",
   "id": "ae94f55b",
   "metadata": {},
   "source": [
    "### Splitting into train and test"
   ]
  },
  {
   "cell_type": "code",
   "execution_count": 17,
   "id": "35e3766a",
   "metadata": {},
   "outputs": [
    {
     "data": {
      "text/plain": [
       "210.0"
      ]
     },
     "execution_count": 17,
     "metadata": {},
     "output_type": "execute_result"
    }
   ],
   "source": [
    "300*0.7"
   ]
  },
  {
   "cell_type": "code",
   "execution_count": 18,
   "id": "7f87d610",
   "metadata": {},
   "outputs": [],
   "source": [
    "df_new = df.sample(frac=1)"
   ]
  },
  {
   "cell_type": "code",
   "execution_count": 19,
   "id": "902a01d1",
   "metadata": {},
   "outputs": [],
   "source": [
    "train = df_new[:210].reset_index(drop=True)"
   ]
  },
  {
   "cell_type": "code",
   "execution_count": 20,
   "id": "1416f316",
   "metadata": {},
   "outputs": [],
   "source": [
    "test = df_new[210:].reset_index(drop=True)"
   ]
  },
  {
   "cell_type": "code",
   "execution_count": 21,
   "id": "b529ccc9",
   "metadata": {},
   "outputs": [
    {
     "data": {
      "text/html": [
       "<div>\n",
       "<style scoped>\n",
       "    .dataframe tbody tr th:only-of-type {\n",
       "        vertical-align: middle;\n",
       "    }\n",
       "\n",
       "    .dataframe tbody tr th {\n",
       "        vertical-align: top;\n",
       "    }\n",
       "\n",
       "    .dataframe thead th {\n",
       "        text-align: right;\n",
       "    }\n",
       "</style>\n",
       "<table border=\"1\" class=\"dataframe\">\n",
       "  <thead>\n",
       "    <tr style=\"text-align: right;\">\n",
       "      <th></th>\n",
       "      <th>Feature_1</th>\n",
       "      <th>Feature_2</th>\n",
       "      <th>Feature_3</th>\n",
       "      <th>Target</th>\n",
       "    </tr>\n",
       "  </thead>\n",
       "  <tbody>\n",
       "    <tr>\n",
       "      <th>0</th>\n",
       "      <td>0.919013</td>\n",
       "      <td>0.071644</td>\n",
       "      <td>0.424967</td>\n",
       "      <td>7.673763</td>\n",
       "    </tr>\n",
       "    <tr>\n",
       "      <th>1</th>\n",
       "      <td>0.924371</td>\n",
       "      <td>0.063181</td>\n",
       "      <td>0.340557</td>\n",
       "      <td>7.095861</td>\n",
       "    </tr>\n",
       "    <tr>\n",
       "      <th>2</th>\n",
       "      <td>0.478081</td>\n",
       "      <td>0.790623</td>\n",
       "      <td>0.814692</td>\n",
       "      <td>9.281022</td>\n",
       "    </tr>\n",
       "    <tr>\n",
       "      <th>3</th>\n",
       "      <td>0.256620</td>\n",
       "      <td>0.059415</td>\n",
       "      <td>0.270279</td>\n",
       "      <td>5.282147</td>\n",
       "    </tr>\n",
       "    <tr>\n",
       "      <th>4</th>\n",
       "      <td>0.246936</td>\n",
       "      <td>0.437111</td>\n",
       "      <td>0.778052</td>\n",
       "      <td>7.402983</td>\n",
       "    </tr>\n",
       "    <tr>\n",
       "      <th>...</th>\n",
       "      <td>...</td>\n",
       "      <td>...</td>\n",
       "      <td>...</td>\n",
       "      <td>...</td>\n",
       "    </tr>\n",
       "    <tr>\n",
       "      <th>205</th>\n",
       "      <td>0.446260</td>\n",
       "      <td>0.179218</td>\n",
       "      <td>0.099015</td>\n",
       "      <td>5.969476</td>\n",
       "    </tr>\n",
       "    <tr>\n",
       "      <th>206</th>\n",
       "      <td>0.603691</td>\n",
       "      <td>0.013641</td>\n",
       "      <td>0.043147</td>\n",
       "      <td>5.277534</td>\n",
       "    </tr>\n",
       "    <tr>\n",
       "      <th>207</th>\n",
       "      <td>0.221459</td>\n",
       "      <td>0.335541</td>\n",
       "      <td>0.390658</td>\n",
       "      <td>5.894033</td>\n",
       "    </tr>\n",
       "    <tr>\n",
       "      <th>208</th>\n",
       "      <td>0.947688</td>\n",
       "      <td>0.254061</td>\n",
       "      <td>0.849956</td>\n",
       "      <td>9.522668</td>\n",
       "    </tr>\n",
       "    <tr>\n",
       "      <th>209</th>\n",
       "      <td>0.567318</td>\n",
       "      <td>0.313208</td>\n",
       "      <td>0.788310</td>\n",
       "      <td>8.686415</td>\n",
       "    </tr>\n",
       "  </tbody>\n",
       "</table>\n",
       "<p>210 rows × 4 columns</p>\n",
       "</div>"
      ],
      "text/plain": [
       "     Feature_1  Feature_2  Feature_3    Target\n",
       "0     0.919013   0.071644   0.424967  7.673763\n",
       "1     0.924371   0.063181   0.340557  7.095861\n",
       "2     0.478081   0.790623   0.814692  9.281022\n",
       "3     0.256620   0.059415   0.270279  5.282147\n",
       "4     0.246936   0.437111   0.778052  7.402983\n",
       "..         ...        ...        ...       ...\n",
       "205   0.446260   0.179218   0.099015  5.969476\n",
       "206   0.603691   0.013641   0.043147  5.277534\n",
       "207   0.221459   0.335541   0.390658  5.894033\n",
       "208   0.947688   0.254061   0.849956  9.522668\n",
       "209   0.567318   0.313208   0.788310  8.686415\n",
       "\n",
       "[210 rows x 4 columns]"
      ]
     },
     "execution_count": 21,
     "metadata": {},
     "output_type": "execute_result"
    }
   ],
   "source": [
    "train"
   ]
  },
  {
   "cell_type": "code",
   "execution_count": 22,
   "id": "b92b493e",
   "metadata": {},
   "outputs": [
    {
     "data": {
      "text/html": [
       "<div>\n",
       "<style scoped>\n",
       "    .dataframe tbody tr th:only-of-type {\n",
       "        vertical-align: middle;\n",
       "    }\n",
       "\n",
       "    .dataframe tbody tr th {\n",
       "        vertical-align: top;\n",
       "    }\n",
       "\n",
       "    .dataframe thead th {\n",
       "        text-align: right;\n",
       "    }\n",
       "</style>\n",
       "<table border=\"1\" class=\"dataframe\">\n",
       "  <thead>\n",
       "    <tr style=\"text-align: right;\">\n",
       "      <th></th>\n",
       "      <th>Feature_1</th>\n",
       "      <th>Feature_2</th>\n",
       "      <th>Feature_3</th>\n",
       "      <th>Target</th>\n",
       "    </tr>\n",
       "  </thead>\n",
       "  <tbody>\n",
       "    <tr>\n",
       "      <th>0</th>\n",
       "      <td>0.771343</td>\n",
       "      <td>0.247010</td>\n",
       "      <td>0.937971</td>\n",
       "      <td>9.006048</td>\n",
       "    </tr>\n",
       "    <tr>\n",
       "      <th>1</th>\n",
       "      <td>0.796656</td>\n",
       "      <td>0.196416</td>\n",
       "      <td>0.100099</td>\n",
       "      <td>6.447078</td>\n",
       "    </tr>\n",
       "    <tr>\n",
       "      <th>2</th>\n",
       "      <td>0.234722</td>\n",
       "      <td>0.484952</td>\n",
       "      <td>0.416946</td>\n",
       "      <td>7.388591</td>\n",
       "    </tr>\n",
       "    <tr>\n",
       "      <th>3</th>\n",
       "      <td>0.588231</td>\n",
       "      <td>0.486798</td>\n",
       "      <td>0.858665</td>\n",
       "      <td>9.015236</td>\n",
       "    </tr>\n",
       "    <tr>\n",
       "      <th>4</th>\n",
       "      <td>0.747789</td>\n",
       "      <td>0.654350</td>\n",
       "      <td>0.573195</td>\n",
       "      <td>9.370726</td>\n",
       "    </tr>\n",
       "    <tr>\n",
       "      <th>...</th>\n",
       "      <td>...</td>\n",
       "      <td>...</td>\n",
       "      <td>...</td>\n",
       "      <td>...</td>\n",
       "    </tr>\n",
       "    <tr>\n",
       "      <th>85</th>\n",
       "      <td>0.553228</td>\n",
       "      <td>0.610598</td>\n",
       "      <td>0.618291</td>\n",
       "      <td>8.515656</td>\n",
       "    </tr>\n",
       "    <tr>\n",
       "      <th>86</th>\n",
       "      <td>0.238087</td>\n",
       "      <td>0.586715</td>\n",
       "      <td>0.687689</td>\n",
       "      <td>8.269854</td>\n",
       "    </tr>\n",
       "    <tr>\n",
       "      <th>87</th>\n",
       "      <td>0.062924</td>\n",
       "      <td>0.573934</td>\n",
       "      <td>0.678264</td>\n",
       "      <td>7.001140</td>\n",
       "    </tr>\n",
       "    <tr>\n",
       "      <th>88</th>\n",
       "      <td>0.143218</td>\n",
       "      <td>0.959599</td>\n",
       "      <td>0.291228</td>\n",
       "      <td>7.375515</td>\n",
       "    </tr>\n",
       "    <tr>\n",
       "      <th>89</th>\n",
       "      <td>0.166809</td>\n",
       "      <td>0.116245</td>\n",
       "      <td>0.451899</td>\n",
       "      <td>6.164821</td>\n",
       "    </tr>\n",
       "  </tbody>\n",
       "</table>\n",
       "<p>90 rows × 4 columns</p>\n",
       "</div>"
      ],
      "text/plain": [
       "    Feature_1  Feature_2  Feature_3    Target\n",
       "0    0.771343   0.247010   0.937971  9.006048\n",
       "1    0.796656   0.196416   0.100099  6.447078\n",
       "2    0.234722   0.484952   0.416946  7.388591\n",
       "3    0.588231   0.486798   0.858665  9.015236\n",
       "4    0.747789   0.654350   0.573195  9.370726\n",
       "..        ...        ...        ...       ...\n",
       "85   0.553228   0.610598   0.618291  8.515656\n",
       "86   0.238087   0.586715   0.687689  8.269854\n",
       "87   0.062924   0.573934   0.678264  7.001140\n",
       "88   0.143218   0.959599   0.291228  7.375515\n",
       "89   0.166809   0.116245   0.451899  6.164821\n",
       "\n",
       "[90 rows x 4 columns]"
      ]
     },
     "execution_count": 22,
     "metadata": {},
     "output_type": "execute_result"
    }
   ],
   "source": [
    "test"
   ]
  },
  {
   "cell_type": "code",
   "execution_count": 23,
   "id": "89d90b09",
   "metadata": {},
   "outputs": [
    {
     "data": {
      "text/plain": [
       "Index(['Feature_1', 'Feature_2', 'Feature_3', 'Target'], dtype='object')"
      ]
     },
     "execution_count": 23,
     "metadata": {},
     "output_type": "execute_result"
    }
   ],
   "source": [
    "df_new.columns"
   ]
  },
  {
   "cell_type": "markdown",
   "id": "a70f1398",
   "metadata": {},
   "source": [
    "### Seperate Feature and Target"
   ]
  },
  {
   "cell_type": "code",
   "execution_count": 24,
   "id": "ce7ce0b0",
   "metadata": {},
   "outputs": [],
   "source": [
    "x_train = train[['Feature_1', 'Feature_2', 'Feature_3']]\n",
    "y_train = train['Target']"
   ]
  },
  {
   "cell_type": "code",
   "execution_count": null,
   "id": "d4b58bff",
   "metadata": {},
   "outputs": [],
   "source": []
  },
  {
   "cell_type": "code",
   "execution_count": 25,
   "id": "d8005c6f",
   "metadata": {},
   "outputs": [],
   "source": [
    "x_test = test[['Feature_1', 'Feature_2', 'Feature_3']]\n",
    "y_test = test['Target']"
   ]
  },
  {
   "cell_type": "code",
   "execution_count": null,
   "id": "a9505b32",
   "metadata": {},
   "outputs": [],
   "source": []
  },
  {
   "cell_type": "markdown",
   "id": "d8283521",
   "metadata": {},
   "source": [
    "### Model Training"
   ]
  },
  {
   "cell_type": "code",
   "execution_count": 26,
   "id": "aae0463b",
   "metadata": {},
   "outputs": [],
   "source": [
    "from sklearn.linear_model import LinearRegression"
   ]
  },
  {
   "cell_type": "code",
   "execution_count": 27,
   "id": "bc17a236",
   "metadata": {},
   "outputs": [],
   "source": [
    "model = LinearRegression()"
   ]
  },
  {
   "cell_type": "code",
   "execution_count": 28,
   "id": "aa222e0c",
   "metadata": {},
   "outputs": [
    {
     "data": {
      "text/plain": [
       "LinearRegression()"
      ]
     },
     "execution_count": 28,
     "metadata": {},
     "output_type": "execute_result"
    }
   ],
   "source": [
    "model.fit(x_train, y_train)"
   ]
  },
  {
   "cell_type": "code",
   "execution_count": null,
   "id": "00018e71",
   "metadata": {},
   "outputs": [],
   "source": []
  },
  {
   "cell_type": "markdown",
   "id": "6127e88b",
   "metadata": {},
   "source": [
    "### Model Test"
   ]
  },
  {
   "cell_type": "code",
   "execution_count": 29,
   "id": "8b04ca6f",
   "metadata": {},
   "outputs": [
    {
     "data": {
      "text/plain": [
       "array([ 9.33225704,  6.76950566,  6.86621398,  9.27481114,  9.44179563,\n",
       "        8.33391851,  7.14592461,  8.25035717,  6.45169133, 10.1378179 ,\n",
       "        7.09657339,  8.16075491,  6.79339178,  7.4307558 ,  6.93888105,\n",
       "        4.532985  ,  5.64914681,  8.32403065,  9.03928356,  6.69211281,\n",
       "        8.26152048,  6.21136587,  5.24255502,  5.44867462,  6.0965226 ,\n",
       "        8.82036811,  6.15727519,  9.39489491,  6.7578049 ,  8.83992927,\n",
       "        5.75959678,  7.5183118 ,  5.61935058,  9.14634667,  7.19505342,\n",
       "        7.07077361,  6.75943531,  9.63214631,  6.64221082,  5.96245043,\n",
       "       10.21550499,  9.63033594,  5.8641185 ,  6.48790214,  7.94429936,\n",
       "       10.41364513,  9.75642145,  5.70183293, 12.25156822,  8.93071816,\n",
       "        5.27190267,  7.53324149, 11.30830053,  5.83723634,  8.86467441,\n",
       "        9.44426179,  7.56329809,  7.14872009,  8.74610994,  9.54733591,\n",
       "        7.41585955,  7.52036674, 10.79857563,  7.69790756,  6.35655567,\n",
       "        7.08890318,  7.1319504 ,  8.25750449,  7.5098503 ,  8.23144238,\n",
       "        6.61140981,  7.29350074,  9.80812579,  9.02877188,  8.88024918,\n",
       "        7.07804876,  8.47999395,  8.14027913,  8.72668373,  8.06977835,\n",
       "        8.9637158 ,  6.96718516,  7.31309239,  5.84688742,  7.97560661,\n",
       "        8.83802869,  7.99503544,  7.38571292,  7.68317571,  5.61582732])"
      ]
     },
     "execution_count": 29,
     "metadata": {},
     "output_type": "execute_result"
    }
   ],
   "source": [
    "prediction = model.predict(x_test)\n",
    "prediction"
   ]
  },
  {
   "cell_type": "code",
   "execution_count": 30,
   "id": "8076018a",
   "metadata": {},
   "outputs": [
    {
     "data": {
      "text/html": [
       "<div>\n",
       "<style scoped>\n",
       "    .dataframe tbody tr th:only-of-type {\n",
       "        vertical-align: middle;\n",
       "    }\n",
       "\n",
       "    .dataframe tbody tr th {\n",
       "        vertical-align: top;\n",
       "    }\n",
       "\n",
       "    .dataframe thead th {\n",
       "        text-align: right;\n",
       "    }\n",
       "</style>\n",
       "<table border=\"1\" class=\"dataframe\">\n",
       "  <thead>\n",
       "    <tr style=\"text-align: right;\">\n",
       "      <th></th>\n",
       "      <th>Prediction</th>\n",
       "      <th>Actual</th>\n",
       "    </tr>\n",
       "  </thead>\n",
       "  <tbody>\n",
       "    <tr>\n",
       "      <th>0</th>\n",
       "      <td>9.332257</td>\n",
       "      <td>9.006048</td>\n",
       "    </tr>\n",
       "    <tr>\n",
       "      <th>1</th>\n",
       "      <td>6.769506</td>\n",
       "      <td>6.447078</td>\n",
       "    </tr>\n",
       "    <tr>\n",
       "      <th>2</th>\n",
       "      <td>6.866214</td>\n",
       "      <td>7.388591</td>\n",
       "    </tr>\n",
       "    <tr>\n",
       "      <th>3</th>\n",
       "      <td>9.274811</td>\n",
       "      <td>9.015236</td>\n",
       "    </tr>\n",
       "    <tr>\n",
       "      <th>4</th>\n",
       "      <td>9.441796</td>\n",
       "      <td>9.370726</td>\n",
       "    </tr>\n",
       "    <tr>\n",
       "      <th>...</th>\n",
       "      <td>...</td>\n",
       "      <td>...</td>\n",
       "    </tr>\n",
       "    <tr>\n",
       "      <th>85</th>\n",
       "      <td>8.838029</td>\n",
       "      <td>8.515656</td>\n",
       "    </tr>\n",
       "    <tr>\n",
       "      <th>86</th>\n",
       "      <td>7.995035</td>\n",
       "      <td>8.269854</td>\n",
       "    </tr>\n",
       "    <tr>\n",
       "      <th>87</th>\n",
       "      <td>7.385713</td>\n",
       "      <td>7.001140</td>\n",
       "    </tr>\n",
       "    <tr>\n",
       "      <th>88</th>\n",
       "      <td>7.683176</td>\n",
       "      <td>7.375515</td>\n",
       "    </tr>\n",
       "    <tr>\n",
       "      <th>89</th>\n",
       "      <td>5.615827</td>\n",
       "      <td>6.164821</td>\n",
       "    </tr>\n",
       "  </tbody>\n",
       "</table>\n",
       "<p>90 rows × 2 columns</p>\n",
       "</div>"
      ],
      "text/plain": [
       "    Prediction    Actual\n",
       "0     9.332257  9.006048\n",
       "1     6.769506  6.447078\n",
       "2     6.866214  7.388591\n",
       "3     9.274811  9.015236\n",
       "4     9.441796  9.370726\n",
       "..         ...       ...\n",
       "85    8.838029  8.515656\n",
       "86    7.995035  8.269854\n",
       "87    7.385713  7.001140\n",
       "88    7.683176  7.375515\n",
       "89    5.615827  6.164821\n",
       "\n",
       "[90 rows x 2 columns]"
      ]
     },
     "execution_count": 30,
     "metadata": {},
     "output_type": "execute_result"
    }
   ],
   "source": [
    "pd.DataFrame({'Prediction':prediction, 'Actual':y_test})"
   ]
  },
  {
   "cell_type": "code",
   "execution_count": 31,
   "id": "eb230dc5",
   "metadata": {},
   "outputs": [],
   "source": [
    "from sklearn.metrics import mean_squared_error"
   ]
  },
  {
   "cell_type": "code",
   "execution_count": 32,
   "id": "7be198e2",
   "metadata": {},
   "outputs": [
    {
     "data": {
      "text/plain": [
       "7.875117862097186"
      ]
     },
     "execution_count": 32,
     "metadata": {},
     "output_type": "execute_result"
    }
   ],
   "source": [
    "mean_squared_error(prediction, y_test)*100"
   ]
  },
  {
   "cell_type": "code",
   "execution_count": 33,
   "id": "3f7c8ec8",
   "metadata": {},
   "outputs": [
    {
     "data": {
      "text/plain": [
       "Text(0, 0.5, 'Target')"
      ]
     },
     "execution_count": 33,
     "metadata": {},
     "output_type": "execute_result"
    },
    {
     "data": {
      "image/png": "[encoded data removed]",
      "text/plain": [
       "<Figure size 432x288 with 1 Axes>"
      ]
     },
     "metadata": {
      "needs_background": "light"
     },
     "output_type": "display_data"
    }
   ],
   "source": [
    "plt.scatter(range(0,90), prediction, label='Predictions')\n",
    "plt.scatter(range(0,90), y_test, label='Actual')\n",
    "plt.legend()\n",
    "plt.title('Prediction vs Actual')\n",
    "plt.ylabel('Target')"
   ]
  },
  {
   "cell_type": "code",
   "execution_count": null,
   "id": "892b8285",
   "metadata": {},
   "outputs": [],
   "source": []
  },
  {
   "cell_type": "code",
   "execution_count": null,
   "id": "3adb9f05",
   "metadata": {},
   "outputs": [],
   "source": []
  },
  {
   "cell_type": "code",
   "execution_count": null,
   "id": "450cb7b2",
   "metadata": {},
   "outputs": [],
   "source": []
  },
  {
   "cell_type": "code",
   "execution_count": 34,
   "id": "c033fb9c",
   "metadata": {},
   "outputs": [],
   "source": [
    "prediction.sort()\n"
   ]
  },
  {
   "cell_type": "code",
   "execution_count": 36,
   "id": "eca116d8",
   "metadata": {},
   "outputs": [],
   "source": [
    "(list(y_test)).sort()"
   ]
  },
  {
   "cell_type": "code",
   "execution_count": 47,
   "id": "b2d4256b",
   "metadata": {},
   "outputs": [
    {
     "data": {
      "text/plain": [
       "<matplotlib.collections.PathCollection at 0x16aa6564af0>"
      ]
     },
     "execution_count": 47,
     "metadata": {},
     "output_type": "execute_result"
    },
    {
     "data": {
      "image/png": "[encoded data removed]",
      "text/plain": [
       "<Figure size 432x288 with 1 Axes>"
      ]
     },
     "metadata": {
      "needs_background": "light"
     },
     "output_type": "display_data"
    }
   ],
   "source": [
    "plt.scatter(range(0,90), prediction)\n",
    "plt.scatter(range(0,90), yy)"
   ]
  },
  {
   "cell_type": "code",
   "execution_count": 45,
   "id": "c011126b",
   "metadata": {},
   "outputs": [],
   "source": [
    "yy = y_test.sort_values()"
   ]
  },
  {
   "cell_type": "code",
   "execution_count": null,
   "id": "a1207e24",
   "metadata": {},
   "outputs": [],
   "source": []
  },
  {
   "cell_type": "code",
   "execution_count": null,
   "id": "17b9b46c",
   "metadata": {},
   "outputs": [],
   "source": []
  },
  {
   "cell_type": "code",
   "execution_count": null,
   "id": "33a8f03e",
   "metadata": {},
   "outputs": [],
   "source": []
  },
  {
   "cell_type": "code",
   "execution_count": null,
   "id": "f38179bf",
   "metadata": {},
   "outputs": [],
   "source": []
  }
 ],
 "metadata": {
  "kernelspec": {
   "display_name": "Python 3 (ipykernel)",
   "language": "python",
   "name": "python3"
  },
  "language_info": {
   "codemirror_mode": {
    "name": "ipython",
    "version": 3
   },
   "file_extension": ".py",
   "mimetype": "text/x-python",
   "name": "python",
   "nbconvert_exporter": "python",
   "pygments_lexer": "ipython3",
   "version": "3.9.7"
  }
 },
 "nbformat": 4,
 "nbformat_minor": 5
}
