{
 "cells": [
  {
   "cell_type": "code",
   "execution_count": 1,
   "id": "46f80e15",
   "metadata": {},
   "outputs": [],
   "source": [
    "lst1 = ['Ahmed', 28, 50000.0]\n",
    "lst2 = ['Ali', 25, 45000.0]"
   ]
  },
  {
   "cell_type": "code",
   "execution_count": 2,
   "id": "043df204",
   "metadata": {},
   "outputs": [
    {
     "name": "stdout",
     "output_type": "stream",
     "text": [
      "['Ahmed', 28, 50000.0]\n"
     ]
    }
   ],
   "source": [
    "print(lst1)"
   ]
  },
  {
   "cell_type": "code",
   "execution_count": 3,
   "id": "49a20fc3",
   "metadata": {},
   "outputs": [],
   "source": [
    "new = ['a', 'b', 'c','d']"
   ]
  },
  {
   "cell_type": "code",
   "execution_count": 4,
   "id": "81a16f82",
   "metadata": {},
   "outputs": [
    {
     "name": "stdout",
     "output_type": "stream",
     "text": [
      "a\n",
      "b\n",
      "c\n",
      "d\n"
     ]
    }
   ],
   "source": [
    "for i in new:\n",
    "    print(i)"
   ]
  },
  {
   "cell_type": "code",
   "execution_count": 7,
   "id": "3fae4df0",
   "metadata": {},
   "outputs": [],
   "source": [
    "lst3 = [lst1, lst2]  # list of list"
   ]
  },
  {
   "cell_type": "code",
   "execution_count": 6,
   "id": "9a642478",
   "metadata": {},
   "outputs": [
    {
     "name": "stdout",
     "output_type": "stream",
     "text": [
      "[['Ahmed', 28, 50000.0], ['Ali', 25, 45000.0]]\n"
     ]
    }
   ],
   "source": [
    "print(lst3)"
   ]
  },
  {
   "cell_type": "code",
   "execution_count": 123,
   "id": "b5d3d28a",
   "metadata": {},
   "outputs": [
    {
     "name": "stdout",
     "output_type": "stream",
     "text": [
      "50000.0\n"
     ]
    }
   ],
   "source": [
    "lst1 = ['Ahmed', 28, 50000.0]\n",
    "lst2 = ['Ali', 25, 45000.0]\n",
    "lst3 = [lst1, lst2]\n",
    "print(lst3[0][2])"
   ]
  },
  {
   "cell_type": "code",
   "execution_count": 11,
   "id": "3e1fbcec",
   "metadata": {},
   "outputs": [
    {
     "name": "stdout",
     "output_type": "stream",
     "text": [
      "Ahmed\n",
      "Ali\n"
     ]
    }
   ],
   "source": [
    "for i in lst3:\n",
    "    print(i[0])"
   ]
  },
  {
   "cell_type": "code",
   "execution_count": 9,
   "id": "73629639",
   "metadata": {},
   "outputs": [],
   "source": [
    "i = ['Ahmed', 28, 50000.0]"
   ]
  },
  {
   "cell_type": "code",
   "execution_count": 10,
   "id": "05e9657a",
   "metadata": {},
   "outputs": [
    {
     "name": "stdout",
     "output_type": "stream",
     "text": [
      "Ahmed\n"
     ]
    }
   ],
   "source": [
    "print(i[0])"
   ]
  },
  {
   "cell_type": "code",
   "execution_count": 12,
   "id": "5b3f53f7",
   "metadata": {},
   "outputs": [],
   "source": [
    "## dictionary   >>>>> {}  >>>>> { key : value }\n",
    "emp1 = {'name' : 'Ahmed', 'age' : 28, 'salary' : 500000.0}"
   ]
  },
  {
   "cell_type": "code",
   "execution_count": 13,
   "id": "7e861f91",
   "metadata": {},
   "outputs": [
    {
     "name": "stdout",
     "output_type": "stream",
     "text": [
      "Ahmed\n"
     ]
    }
   ],
   "source": [
    "print(emp1['name'])"
   ]
  },
  {
   "cell_type": "code",
   "execution_count": 14,
   "id": "432a7f50",
   "metadata": {},
   "outputs": [
    {
     "name": "stdout",
     "output_type": "stream",
     "text": [
      "500000.0\n"
     ]
    }
   ],
   "source": [
    "print(emp1['salary'])"
   ]
  },
  {
   "cell_type": "code",
   "execution_count": 15,
   "id": "b048c44e",
   "metadata": {},
   "outputs": [],
   "source": [
    "employees = {'name' : ['Ahmed', 'Anas', 'Ali'], 'age' : [28, 25, 26], 'salary' : [45000, 60000, 50000]}"
   ]
  },
  {
   "cell_type": "code",
   "execution_count": 16,
   "id": "a7f4f025",
   "metadata": {},
   "outputs": [
    {
     "name": "stdout",
     "output_type": "stream",
     "text": [
      "['Ahmed', 'Anas', 'Ali']\n"
     ]
    }
   ],
   "source": [
    "print(employees['name'])"
   ]
  },
  {
   "cell_type": "code",
   "execution_count": 17,
   "id": "b98835ce",
   "metadata": {},
   "outputs": [
    {
     "name": "stdout",
     "output_type": "stream",
     "text": [
      "[45000, 60000, 50000]\n"
     ]
    }
   ],
   "source": [
    "print(employees['salary'])"
   ]
  },
  {
   "cell_type": "code",
   "execution_count": 126,
   "id": "5e5665f5",
   "metadata": {},
   "outputs": [
    {
     "name": "stdout",
     "output_type": "stream",
     "text": [
      "['kaaif', 'haris', 'mohammed']\n"
     ]
    }
   ],
   "source": [
    "lst = ['kaaif', 'mohammed']\n",
    "lst.insert(1, 'haris')\n",
    "print(lst)"
   ]
  },
  {
   "cell_type": "code",
   "execution_count": 18,
   "id": "988ad5a2",
   "metadata": {},
   "outputs": [],
   "source": [
    "lst1.append('Karachi')"
   ]
  },
  {
   "cell_type": "code",
   "execution_count": 19,
   "id": "2c73b895",
   "metadata": {},
   "outputs": [
    {
     "name": "stdout",
     "output_type": "stream",
     "text": [
      "['Ahmed', 28, 50000.0, 'Karachi']\n"
     ]
    }
   ],
   "source": [
    "print(lst1)"
   ]
  },
  {
   "cell_type": "code",
   "execution_count": 20,
   "id": "cfc02a2d",
   "metadata": {},
   "outputs": [
    {
     "data": {
      "text/plain": [
       "'Karachi'"
      ]
     },
     "execution_count": 20,
     "metadata": {},
     "output_type": "execute_result"
    }
   ],
   "source": [
    "lst1.pop(3)"
   ]
  },
  {
   "cell_type": "code",
   "execution_count": 21,
   "id": "bf2162b0",
   "metadata": {},
   "outputs": [
    {
     "data": {
      "text/plain": [
       "['Ahmed', 28, 50000.0]"
      ]
     },
     "execution_count": 21,
     "metadata": {},
     "output_type": "execute_result"
    }
   ],
   "source": [
    "lst1"
   ]
  },
  {
   "cell_type": "code",
   "execution_count": 22,
   "id": "8f827d96",
   "metadata": {},
   "outputs": [],
   "source": [
    "lst1.append('Karachi')"
   ]
  },
  {
   "cell_type": "code",
   "execution_count": 23,
   "id": "87bca740",
   "metadata": {},
   "outputs": [
    {
     "data": {
      "text/plain": [
       "['Ahmed', 28, 50000.0, 'Karachi']"
      ]
     },
     "execution_count": 23,
     "metadata": {},
     "output_type": "execute_result"
    }
   ],
   "source": [
    "lst1"
   ]
  },
  {
   "cell_type": "code",
   "execution_count": 24,
   "id": "0030e109",
   "metadata": {},
   "outputs": [],
   "source": [
    "lst1.remove('Karachi')"
   ]
  },
  {
   "cell_type": "code",
   "execution_count": 25,
   "id": "c94a29ec",
   "metadata": {},
   "outputs": [
    {
     "data": {
      "text/plain": [
       "['Ahmed', 28, 50000.0]"
      ]
     },
     "execution_count": 25,
     "metadata": {},
     "output_type": "execute_result"
    }
   ],
   "source": [
    "lst1"
   ]
  },
  {
   "cell_type": "code",
   "execution_count": null,
   "id": "e23caeba",
   "metadata": {},
   "outputs": [],
   "source": []
  },
  {
   "cell_type": "code",
   "execution_count": 39,
   "id": "6658a08c",
   "metadata": {},
   "outputs": [
    {
     "data": {
      "text/plain": [
       "float"
      ]
     },
     "execution_count": 39,
     "metadata": {},
     "output_type": "execute_result"
    }
   ],
   "source": [
    "type(50.0544)"
   ]
  },
  {
   "cell_type": "code",
   "execution_count": 58,
   "id": "e8074890",
   "metadata": {},
   "outputs": [
    {
     "data": {
      "text/plain": [
       "True"
      ]
     },
     "execution_count": 58,
     "metadata": {},
     "output_type": "execute_result"
    }
   ],
   "source": [
    "type(50) == int"
   ]
  },
  {
   "cell_type": "code",
   "execution_count": null,
   "id": "46145df1",
   "metadata": {},
   "outputs": [],
   "source": []
  },
  {
   "cell_type": "code",
   "execution_count": 52,
   "id": "e8b2015e",
   "metadata": {},
   "outputs": [],
   "source": [
    "import numpy as np"
   ]
  },
  {
   "cell_type": "code",
   "execution_count": 54,
   "id": "84eabfd5",
   "metadata": {},
   "outputs": [
    {
     "data": {
      "text/plain": [
       "numpy.int16"
      ]
     },
     "execution_count": 54,
     "metadata": {},
     "output_type": "execute_result"
    }
   ],
   "source": [
    "type(np.int16(12))"
   ]
  },
  {
   "cell_type": "code",
   "execution_count": null,
   "id": "aa8cdece",
   "metadata": {},
   "outputs": [],
   "source": []
  },
  {
   "cell_type": "code",
   "execution_count": null,
   "id": "51baaa96",
   "metadata": {},
   "outputs": [],
   "source": []
  },
  {
   "cell_type": "code",
   "execution_count": 57,
   "id": "664d2cb6",
   "metadata": {},
   "outputs": [
    {
     "name": "stdout",
     "output_type": "stream",
     "text": [
      "Enter any number: 50\n",
      "float\n"
     ]
    }
   ],
   "source": [
    "# a = input('Enter any number: ')\n",
    "# if type(a) == int:\n",
    "#     print('integer')\n",
    "# else:\n",
    "#     print('float')"
   ]
  },
  {
   "cell_type": "code",
   "execution_count": 43,
   "id": "bc51bc33",
   "metadata": {},
   "outputs": [
    {
     "data": {
      "text/plain": [
       "True"
      ]
     },
     "execution_count": 43,
     "metadata": {},
     "output_type": "execute_result"
    }
   ],
   "source": [
    "\".\" in \"20.56\""
   ]
  },
  {
   "cell_type": "code",
   "execution_count": 60,
   "id": "a5c1d4dd",
   "metadata": {},
   "outputs": [
    {
     "name": "stdout",
     "output_type": "stream",
     "text": [
      "Enter any number: 45.55\n",
      "float\n"
     ]
    }
   ],
   "source": [
    "a = input('Enter any number: ')\n",
    "if \".\" in a:\n",
    "    print('float')\n",
    "else:\n",
    "    print('int')"
   ]
  },
  {
   "cell_type": "code",
   "execution_count": null,
   "id": "84a49c1b",
   "metadata": {},
   "outputs": [],
   "source": []
  },
  {
   "cell_type": "code",
   "execution_count": null,
   "id": "25d8d0ea",
   "metadata": {},
   "outputs": [],
   "source": []
  },
  {
   "cell_type": "code",
   "execution_count": 3,
   "id": "e7d5b03c",
   "metadata": {},
   "outputs": [],
   "source": [
    "# !pip install numpy"
   ]
  },
  {
   "cell_type": "code",
   "execution_count": 5,
   "id": "2ca6ae46",
   "metadata": {},
   "outputs": [],
   "source": [
    "import numpy as np"
   ]
  },
  {
   "cell_type": "code",
   "execution_count": 10,
   "id": "26df084b",
   "metadata": {},
   "outputs": [],
   "source": [
    "lst = [1,4,5,7,9,23,11,10]"
   ]
  },
  {
   "cell_type": "code",
   "execution_count": 11,
   "id": "bcab6b00",
   "metadata": {},
   "outputs": [
    {
     "data": {
      "text/plain": [
       "70"
      ]
     },
     "execution_count": 11,
     "metadata": {},
     "output_type": "execute_result"
    }
   ],
   "source": [
    "np.sum(lst)"
   ]
  },
  {
   "cell_type": "code",
   "execution_count": 108,
   "id": "8140818b",
   "metadata": {},
   "outputs": [],
   "source": [
    "a = 2\n",
    "b = 3"
   ]
  },
  {
   "cell_type": "code",
   "execution_count": 110,
   "id": "c1ba5532",
   "metadata": {},
   "outputs": [
    {
     "data": {
      "text/plain": [
       "2"
      ]
     },
     "execution_count": 110,
     "metadata": {},
     "output_type": "execute_result"
    }
   ],
   "source": [
    "np.sum(a)"
   ]
  },
  {
   "cell_type": "code",
   "execution_count": 12,
   "id": "2f5872c2",
   "metadata": {},
   "outputs": [
    {
     "data": {
      "text/plain": [
       "23"
      ]
     },
     "execution_count": 12,
     "metadata": {},
     "output_type": "execute_result"
    }
   ],
   "source": [
    "np.max(lst)"
   ]
  },
  {
   "cell_type": "code",
   "execution_count": 13,
   "id": "7ece1926",
   "metadata": {},
   "outputs": [
    {
     "data": {
      "text/plain": [
       "5"
      ]
     },
     "execution_count": 13,
     "metadata": {},
     "output_type": "execute_result"
    }
   ],
   "source": [
    "np.argmax(lst)"
   ]
  },
  {
   "cell_type": "code",
   "execution_count": 14,
   "id": "4caf8dc8",
   "metadata": {},
   "outputs": [
    {
     "data": {
      "text/plain": [
       "0"
      ]
     },
     "execution_count": 14,
     "metadata": {},
     "output_type": "execute_result"
    }
   ],
   "source": [
    "np.argmin(lst)"
   ]
  },
  {
   "cell_type": "code",
   "execution_count": 23,
   "id": "245d4792",
   "metadata": {},
   "outputs": [
    {
     "data": {
      "text/plain": [
       "4"
      ]
     },
     "execution_count": 23,
     "metadata": {},
     "output_type": "execute_result"
    }
   ],
   "source": [
    "np.random.randint(2,15)"
   ]
  },
  {
   "cell_type": "code",
   "execution_count": 19,
   "id": "54627e2c",
   "metadata": {},
   "outputs": [
    {
     "data": {
      "text/plain": [
       "array([0, 1, 2, 3, 4])"
      ]
     },
     "execution_count": 19,
     "metadata": {},
     "output_type": "execute_result"
    }
   ],
   "source": [
    "np.arange(5)"
   ]
  },
  {
   "cell_type": "code",
   "execution_count": 24,
   "id": "20d2ae63",
   "metadata": {},
   "outputs": [],
   "source": [
    "lst = ['ali', 'hamza', 'asad', 'noman']"
   ]
  },
  {
   "cell_type": "code",
   "execution_count": 25,
   "id": "cdb12196",
   "metadata": {},
   "outputs": [
    {
     "name": "stdout",
     "output_type": "stream",
     "text": [
      "ali\n",
      "hamza\n",
      "asad\n",
      "noman\n"
     ]
    }
   ],
   "source": [
    "for i in lst:\n",
    "    print(i)"
   ]
  },
  {
   "cell_type": "code",
   "execution_count": 26,
   "id": "03771b87",
   "metadata": {},
   "outputs": [
    {
     "name": "stdout",
     "output_type": "stream",
     "text": [
      "0\n",
      "1\n",
      "2\n",
      "3\n",
      "4\n"
     ]
    }
   ],
   "source": [
    "for i in np.arange(5):\n",
    "    print(i)"
   ]
  },
  {
   "cell_type": "code",
   "execution_count": 113,
   "id": "dda38f22",
   "metadata": {},
   "outputs": [
    {
     "data": {
      "text/plain": [
       "array([0., 0., 0., 0., 0.])"
      ]
     },
     "execution_count": 113,
     "metadata": {},
     "output_type": "execute_result"
    }
   ],
   "source": [
    "np.zeros(5)"
   ]
  },
  {
   "cell_type": "code",
   "execution_count": 28,
   "id": "1bf0233e",
   "metadata": {},
   "outputs": [
    {
     "data": {
      "text/plain": [
       "array([1., 1., 1., 1., 1., 1., 1., 1.])"
      ]
     },
     "execution_count": 28,
     "metadata": {},
     "output_type": "execute_result"
    }
   ],
   "source": [
    "np.ones(8)"
   ]
  },
  {
   "cell_type": "code",
   "execution_count": 29,
   "id": "863b7dc4",
   "metadata": {},
   "outputs": [
    {
     "name": "stdout",
     "output_type": "stream",
     "text": [
      "Enter a number: 2\n"
     ]
    }
   ],
   "source": [
    "lst = []\n",
    "a = int(input(\"Enter a number: \"))\n",
    "lst.append(a)"
   ]
  },
  {
   "cell_type": "code",
   "execution_count": 30,
   "id": "72d3130f",
   "metadata": {},
   "outputs": [
    {
     "data": {
      "text/plain": [
       "[2]"
      ]
     },
     "execution_count": 30,
     "metadata": {},
     "output_type": "execute_result"
    }
   ],
   "source": [
    "lst"
   ]
  },
  {
   "cell_type": "code",
   "execution_count": 36,
   "id": "d19e31da",
   "metadata": {},
   "outputs": [],
   "source": [
    "lst = []\n",
    "for i in range(10):\n",
    "    a = int(input(f\"Enter {i+1} number: \"))\n",
    "    lst.append(a)"
   ]
  },
  {
   "cell_type": "code",
   "execution_count": 33,
   "id": "38342498",
   "metadata": {},
   "outputs": [
    {
     "data": {
      "text/plain": [
       "[2, 3, 7, 4, 89, 44, 7, 22, 4, 6]"
      ]
     },
     "execution_count": 33,
     "metadata": {},
     "output_type": "execute_result"
    }
   ],
   "source": [
    "lst"
   ]
  },
  {
   "cell_type": "code",
   "execution_count": 50,
   "id": "cc327876",
   "metadata": {
    "collapsed": true
   },
   "outputs": [
    {
     "name": "stdout",
     "output_type": "stream",
     "text": [
      "Enter the names : k\n",
      "2\n",
      "Enter the names : k\n",
      "3\n",
      "Enter the names : k\n",
      "4\n",
      "Enter the names : k\n",
      "5\n",
      "Enter the names : k\n",
      "6\n",
      "Enter the ages : k\n",
      "Enter the names : k\n",
      "7\n",
      "Enter the ages : 54\n"
     ]
    },
    {
     "ename": "KeyboardInterrupt",
     "evalue": "Interrupted by user",
     "output_type": "error",
     "traceback": [
      "\u001b[1;31m---------------------------------------------------------------------------\u001b[0m",
      "\u001b[1;31mKeyboardInterrupt\u001b[0m                         Traceback (most recent call last)",
      "\u001b[1;32m~\\AppData\\Local\\Temp/ipykernel_236/3630188924.py\u001b[0m in \u001b[0;36m<module>\u001b[1;34m\u001b[0m\n\u001b[0;32m      8\u001b[0m \u001b[1;32mwhile\u001b[0m \u001b[0mi\u001b[0m \u001b[1;33m==\u001b[0m \u001b[1;36m1\u001b[0m\u001b[1;33m:\u001b[0m\u001b[1;33m\u001b[0m\u001b[1;33m\u001b[0m\u001b[0m\n\u001b[0;32m      9\u001b[0m \u001b[1;33m\u001b[0m\u001b[0m\n\u001b[1;32m---> 10\u001b[1;33m     \u001b[0ma\u001b[0m \u001b[1;33m=\u001b[0m \u001b[0minput\u001b[0m\u001b[1;33m(\u001b[0m\u001b[1;34m\"Enter the names : \"\u001b[0m\u001b[1;33m)\u001b[0m\u001b[1;33m\u001b[0m\u001b[1;33m\u001b[0m\u001b[0m\n\u001b[0m\u001b[0;32m     11\u001b[0m     \u001b[0memployess\u001b[0m\u001b[1;33m[\u001b[0m\u001b[1;34m\"names\"\u001b[0m\u001b[1;33m]\u001b[0m\u001b[1;33m.\u001b[0m\u001b[0mappend\u001b[0m\u001b[1;33m(\u001b[0m\u001b[0ma\u001b[0m\u001b[1;33m)\u001b[0m\u001b[1;33m\u001b[0m\u001b[1;33m\u001b[0m\u001b[0m\n\u001b[0;32m     12\u001b[0m     \u001b[0mb\u001b[0m \u001b[1;33m+=\u001b[0m \u001b[1;36m1\u001b[0m\u001b[1;33m\u001b[0m\u001b[1;33m\u001b[0m\u001b[0m\n",
      "\u001b[1;32mC:\\ProgramData\\Anaconda3\\lib\\site-packages\\ipykernel\\kernelbase.py\u001b[0m in \u001b[0;36mraw_input\u001b[1;34m(self, prompt)\u001b[0m\n\u001b[0;32m   1004\u001b[0m                 \u001b[1;34m\"raw_input was called, but this frontend does not support input requests.\"\u001b[0m\u001b[1;33m\u001b[0m\u001b[1;33m\u001b[0m\u001b[0m\n\u001b[0;32m   1005\u001b[0m             )\n\u001b[1;32m-> 1006\u001b[1;33m         return self._input_request(\n\u001b[0m\u001b[0;32m   1007\u001b[0m             \u001b[0mstr\u001b[0m\u001b[1;33m(\u001b[0m\u001b[0mprompt\u001b[0m\u001b[1;33m)\u001b[0m\u001b[1;33m,\u001b[0m\u001b[1;33m\u001b[0m\u001b[1;33m\u001b[0m\u001b[0m\n\u001b[0;32m   1008\u001b[0m             \u001b[0mself\u001b[0m\u001b[1;33m.\u001b[0m\u001b[0m_parent_ident\u001b[0m\u001b[1;33m[\u001b[0m\u001b[1;34m\"shell\"\u001b[0m\u001b[1;33m]\u001b[0m\u001b[1;33m,\u001b[0m\u001b[1;33m\u001b[0m\u001b[1;33m\u001b[0m\u001b[0m\n",
      "\u001b[1;32mC:\\ProgramData\\Anaconda3\\lib\\site-packages\\ipykernel\\kernelbase.py\u001b[0m in \u001b[0;36m_input_request\u001b[1;34m(self, prompt, ident, parent, password)\u001b[0m\n\u001b[0;32m   1049\u001b[0m             \u001b[1;32mexcept\u001b[0m \u001b[0mKeyboardInterrupt\u001b[0m\u001b[1;33m:\u001b[0m\u001b[1;33m\u001b[0m\u001b[1;33m\u001b[0m\u001b[0m\n\u001b[0;32m   1050\u001b[0m                 \u001b[1;31m# re-raise KeyboardInterrupt, to truncate traceback\u001b[0m\u001b[1;33m\u001b[0m\u001b[1;33m\u001b[0m\u001b[0m\n\u001b[1;32m-> 1051\u001b[1;33m                 \u001b[1;32mraise\u001b[0m \u001b[0mKeyboardInterrupt\u001b[0m\u001b[1;33m(\u001b[0m\u001b[1;34m\"Interrupted by user\"\u001b[0m\u001b[1;33m)\u001b[0m \u001b[1;32mfrom\u001b[0m \u001b[1;32mNone\u001b[0m\u001b[1;33m\u001b[0m\u001b[1;33m\u001b[0m\u001b[0m\n\u001b[0m\u001b[0;32m   1052\u001b[0m             \u001b[1;32mexcept\u001b[0m \u001b[0mException\u001b[0m\u001b[1;33m:\u001b[0m\u001b[1;33m\u001b[0m\u001b[1;33m\u001b[0m\u001b[0m\n\u001b[0;32m   1053\u001b[0m                 \u001b[0mself\u001b[0m\u001b[1;33m.\u001b[0m\u001b[0mlog\u001b[0m\u001b[1;33m.\u001b[0m\u001b[0mwarning\u001b[0m\u001b[1;33m(\u001b[0m\u001b[1;34m\"Invalid Message:\"\u001b[0m\u001b[1;33m,\u001b[0m \u001b[0mexc_info\u001b[0m\u001b[1;33m=\u001b[0m\u001b[1;32mTrue\u001b[0m\u001b[1;33m)\u001b[0m\u001b[1;33m\u001b[0m\u001b[1;33m\u001b[0m\u001b[0m\n",
      "\u001b[1;31mKeyboardInterrupt\u001b[0m: Interrupted by user"
     ]
    }
   ],
   "source": [
    "employess = {'names':[], 'age':[], 'weight':[]}\n",
    "\n",
    "i = 1\n",
    "b = 1\n",
    "d = 1\n",
    "e = 1\n",
    "\n",
    "while i == 1:\n",
    "\n",
    "    a = input(\"Enter the names : \")\n",
    "    employess[\"names\"].append(a)\n",
    "    b += 1\n",
    "    print(b)\n",
    "    if b > 5:\n",
    "\n",
    "        c = input(\"Enter the ages : \")\n",
    "        employess[\"age\"].append(c)\n",
    "        d += 1\n",
    "        if d > 5:\n",
    "            f = input(\"Enter the weights : \")\n",
    "            e += 1\n",
    "            if e == 5:\n",
    "                break"
   ]
  },
  {
   "cell_type": "code",
   "execution_count": 46,
   "id": "a672fd74",
   "metadata": {},
   "outputs": [
    {
     "name": "stdout",
     "output_type": "stream",
     "text": [
      "{'names': ['ali', 'kashan', 'kaaif', 'asad', 'noman'], 'age': [], 'weight': []}\n"
     ]
    }
   ],
   "source": [
    "print(employess)"
   ]
  },
  {
   "cell_type": "code",
   "execution_count": 55,
   "id": "974c312c",
   "metadata": {},
   "outputs": [
    {
     "name": "stdout",
     "output_type": "stream",
     "text": [
      "Enter names: f\n",
      "Enter names: g\n",
      "Enter names: h\n",
      "Enter names: j\n",
      "Enter names: t\n",
      "Enter age: 5\n",
      "Enter age: 6\n",
      "Enter age: 7\n",
      "Enter age: 89\n",
      "Enter age: 4\n",
      "Enter weight: 6\n",
      "Enter weight: 3\n",
      "Enter weight: 23\n",
      "Enter weight: 2\n",
      "Enter weight: 2\n"
     ]
    }
   ],
   "source": [
    "employess = {'names':[], 'age':[], 'weight':[]}\n",
    "lst = ['names', 'age', 'weight']\n",
    "\n",
    "for i in lst:\n",
    "    for j in range(5):\n",
    "        a = input(f'Enter {i}: ')\n",
    "        employess[i].append(a)"
   ]
  },
  {
   "cell_type": "code",
   "execution_count": 56,
   "id": "b0a37b5c",
   "metadata": {},
   "outputs": [
    {
     "data": {
      "text/plain": [
       "{'names': ['f', 'g', 'h', 'j', 't'],\n",
       " 'age': ['5', '6', '7', '89', '4'],\n",
       " 'weight': ['6', '3', '23', '2', '2']}"
      ]
     },
     "execution_count": 56,
     "metadata": {},
     "output_type": "execute_result"
    }
   ],
   "source": [
    "employess"
   ]
  },
  {
   "cell_type": "code",
   "execution_count": 71,
   "id": "475eb4b3",
   "metadata": {},
   "outputs": [
    {
     "name": "stdout",
     "output_type": "stream",
     "text": [
      "[ 1 13  5  7 99 11]\n",
      "[ 1  5 13]\n"
     ]
    }
   ],
   "source": [
    "a = [1,13,5]\n",
    "b = [7,99,11]\n",
    "\n",
    "a = np.array(a)\n",
    "b = np.array(b)\n",
    "\n",
    "\n",
    "print(np.concatenate((a,b)))\n",
    "\n",
    "print(np.sort(a))\n"
   ]
  },
  {
   "cell_type": "code",
   "execution_count": 72,
   "id": "d67a0bd6",
   "metadata": {
    "scrolled": true
   },
   "outputs": [
    {
     "data": {
      "text/plain": [
       "1"
      ]
     },
     "execution_count": 72,
     "metadata": {},
     "output_type": "execute_result"
    }
   ],
   "source": [
    "# ndim ---> dimensions\n",
    "a.ndim"
   ]
  },
  {
   "cell_type": "code",
   "execution_count": 73,
   "id": "4bae006b",
   "metadata": {},
   "outputs": [],
   "source": [
    "c = np.array(\n",
    "    [\n",
    "    [2,3,4],\n",
    "    [5,6,7]\n",
    "]\n",
    ")"
   ]
  },
  {
   "cell_type": "code",
   "execution_count": 74,
   "id": "860be948",
   "metadata": {},
   "outputs": [
    {
     "data": {
      "text/plain": [
       "2"
      ]
     },
     "execution_count": 74,
     "metadata": {},
     "output_type": "execute_result"
    }
   ],
   "source": [
    "c.ndim"
   ]
  },
  {
   "cell_type": "code",
   "execution_count": 76,
   "id": "5c520a3b",
   "metadata": {},
   "outputs": [],
   "source": [
    "a = [1,13,5,10]\n",
    "\n",
    "a = np.array(a)"
   ]
  },
  {
   "cell_type": "code",
   "execution_count": 77,
   "id": "fc09a0e5",
   "metadata": {},
   "outputs": [
    {
     "data": {
      "text/plain": [
       "(4,)"
      ]
     },
     "execution_count": 77,
     "metadata": {},
     "output_type": "execute_result"
    }
   ],
   "source": [
    "a.shape"
   ]
  },
  {
   "cell_type": "code",
   "execution_count": 79,
   "id": "69108be1",
   "metadata": {},
   "outputs": [
    {
     "data": {
      "text/plain": [
       "array([[ 1, 13],\n",
       "       [ 5, 10]])"
      ]
     },
     "execution_count": 79,
     "metadata": {},
     "output_type": "execute_result"
    }
   ],
   "source": [
    "a.reshape(2,2)"
   ]
  },
  {
   "cell_type": "code",
   "execution_count": 84,
   "id": "0784d67d",
   "metadata": {},
   "outputs": [],
   "source": [
    "def myfunc(name):\n",
    "    print(\"Hello my name is \" + name)"
   ]
  },
  {
   "cell_type": "code",
   "execution_count": 85,
   "id": "f746d961",
   "metadata": {},
   "outputs": [
    {
     "name": "stdout",
     "output_type": "stream",
     "text": [
      "Hello my name is ahsan\n"
     ]
    }
   ],
   "source": [
    "myfunc('ahsan')"
   ]
  },
  {
   "cell_type": "code",
   "execution_count": null,
   "id": "5c121de7",
   "metadata": {},
   "outputs": [],
   "source": []
  },
  {
   "cell_type": "code",
   "execution_count": 101,
   "id": "cbec0000",
   "metadata": {},
   "outputs": [],
   "source": [
    "class Solve:\n",
    "    def __init__(self, num):\n",
    "        self.num = num\n",
    "\n",
    "    \n",
    "    def summ(self):\n",
    "        print(self.num + 10)\n",
    "        \n",
    "    def diff(self):\n",
    "        print(self.num-10)"
   ]
  },
  {
   "cell_type": "code",
   "execution_count": 102,
   "id": "e5cfa73d",
   "metadata": {},
   "outputs": [
    {
     "name": "stdout",
     "output_type": "stream",
     "text": [
      "30\n"
     ]
    }
   ],
   "source": [
    "Solve(20).summ()"
   ]
  },
  {
   "cell_type": "code",
   "execution_count": 103,
   "id": "be329a38",
   "metadata": {},
   "outputs": [
    {
     "name": "stdout",
     "output_type": "stream",
     "text": [
      "10\n"
     ]
    }
   ],
   "source": [
    "Solve(20).diff()"
   ]
  },
  {
   "cell_type": "code",
   "execution_count": 104,
   "id": "1f5d9c5a",
   "metadata": {},
   "outputs": [],
   "source": [
    "class Solve:\n",
    "    def __init__(self, num):\n",
    "        self.num = num\n",
    "\n",
    "    \n",
    "    def summ(self, num2):\n",
    "        print(self.num + 10 + num2)\n",
    "        \n",
    "    def diff(self):\n",
    "        print(self.num-10)"
   ]
  },
  {
   "cell_type": "code",
   "execution_count": 105,
   "id": "0b7dbaf2",
   "metadata": {},
   "outputs": [
    {
     "name": "stdout",
     "output_type": "stream",
     "text": [
      "70\n"
     ]
    }
   ],
   "source": [
    "Solve(50).summ(10)"
   ]
  },
  {
   "cell_type": "code",
   "execution_count": 106,
   "id": "a5a7fa43",
   "metadata": {},
   "outputs": [],
   "source": [
    "class Solve:\n",
    "    def __init__(self, num):\n",
    "        self.num = num\n",
    "\n",
    "    \n",
    "    def summ(self, num2):\n",
    "        print(10 + num2)\n",
    "        \n",
    "    def diff(self):\n",
    "        print(num-10)"
   ]
  },
  {
   "cell_type": "code",
   "execution_count": 107,
   "id": "225bc384",
   "metadata": {},
   "outputs": [
    {
     "name": "stdout",
     "output_type": "stream",
     "text": [
      "20\n"
     ]
    }
   ],
   "source": [
    "Solve().summ(10)"
   ]
  },
  {
   "cell_type": "code",
   "execution_count": 2,
   "id": "99b1b189",
   "metadata": {},
   "outputs": [
    {
     "name": "stdout",
     "output_type": "stream",
     "text": [
      "21+5\n"
     ]
    }
   ],
   "source": [
    "barfoo = []\n",
    "barfoo.append('2')\n",
    "barfoo.append('1')\n",
    "barfoo.append('+')\n",
    "barfoo.append('5')\n",
    "print(''.join(barfoo))"
   ]
  },
  {
   "cell_type": "code",
   "execution_count": 5,
   "id": "52687012",
   "metadata": {},
   "outputs": [
    {
     "data": {
      "text/plain": [
       "11"
      ]
     },
     "execution_count": 5,
     "metadata": {},
     "output_type": "execute_result"
    }
   ],
   "source": [
    "eval('12-6+5')"
   ]
  },
  {
   "cell_type": "code",
   "execution_count": null,
   "id": "3f0f1bce",
   "metadata": {},
   "outputs": [],
   "source": [
    "4 sq "
   ]
  },
  {
   "cell_type": "code",
   "execution_count": 7,
   "id": "3e13cad7",
   "metadata": {},
   "outputs": [
    {
     "data": {
      "text/plain": [
       "2.0"
      ]
     },
     "execution_count": 7,
     "metadata": {},
     "output_type": "execute_result"
    }
   ],
   "source": [
    "4 ** 0.5"
   ]
  },
  {
   "cell_type": "code",
   "execution_count": 9,
   "id": "7987aea8",
   "metadata": {},
   "outputs": [
    {
     "data": {
      "text/plain": [
       "0"
      ]
     },
     "execution_count": 9,
     "metadata": {},
     "output_type": "execute_result"
    }
   ],
   "source": [
    "len('')"
   ]
  },
  {
   "cell_type": "code",
   "execution_count": 15,
   "id": "3d48b7ad",
   "metadata": {},
   "outputs": [
    {
     "data": {
      "text/plain": [
       "6"
      ]
     },
     "execution_count": 15,
     "metadata": {},
     "output_type": "execute_result"
    }
   ],
   "source": [
    "eval('0o1+5')"
   ]
  },
  {
   "cell_type": "code",
   "execution_count": 27,
   "id": "1b038907",
   "metadata": {},
   "outputs": [],
   "source": [
    "equation = ['2','3','4']"
   ]
  },
  {
   "cell_type": "code",
   "execution_count": 28,
   "id": "1c3a8410",
   "metadata": {},
   "outputs": [
    {
     "data": {
      "text/plain": [
       "'[0-9]'"
      ]
     },
     "execution_count": 28,
     "metadata": {},
     "output_type": "execute_result"
    }
   ],
   "source": [
    "'[0-9]'"
   ]
  },
  {
   "cell_type": "code",
   "execution_count": 29,
   "id": "760a9616",
   "metadata": {},
   "outputs": [
    {
     "data": {
      "text/plain": [
       "True"
      ]
     },
     "execution_count": 29,
     "metadata": {},
     "output_type": "execute_result"
    }
   ],
   "source": [
    "equation[-1] in '123456789'"
   ]
  },
  {
   "cell_type": "code",
   "execution_count": 31,
   "id": "3c7b6aa6",
   "metadata": {
    "scrolled": true
   },
   "outputs": [],
   "source": [
    "t = '1.5555.'"
   ]
  },
  {
   "cell_type": "code",
   "execution_count": 34,
   "id": "fc185519",
   "metadata": {},
   "outputs": [
    {
     "data": {
      "text/plain": [
       "2"
      ]
     },
     "execution_count": 34,
     "metadata": {},
     "output_type": "execute_result"
    }
   ],
   "source": [
    "t.count('.')"
   ]
  },
  {
   "cell_type": "code",
   "execution_count": 48,
   "id": "2bd7a1af",
   "metadata": {},
   "outputs": [],
   "source": [
    "ll = ['.','1','.', '+','-']"
   ]
  },
  {
   "cell_type": "code",
   "execution_count": 40,
   "id": "4edd1e83",
   "metadata": {},
   "outputs": [
    {
     "name": "stdout",
     "output_type": "stream",
     "text": [
      "+\n",
      "-\n",
      "*\n",
      "/\n"
     ]
    }
   ],
   "source": [
    "for i in '+-*/':\n",
    "    print(i)"
   ]
  },
  {
   "cell_type": "code",
   "execution_count": 58,
   "id": "7a1de729",
   "metadata": {},
   "outputs": [],
   "source": [
    "l = ['+','-','*']"
   ]
  },
  {
   "cell_type": "code",
   "execution_count": 52,
   "id": "e2004d81",
   "metadata": {},
   "outputs": [
    {
     "data": {
      "text/plain": [
       "['+', '-']"
      ]
     },
     "execution_count": 52,
     "metadata": {},
     "output_type": "execute_result"
    }
   ],
   "source": [
    "[x for x in '+-*/' if x in ll]"
   ]
  },
  {
   "cell_type": "code",
   "execution_count": 59,
   "id": "3d8b3cdd",
   "metadata": {},
   "outputs": [
    {
     "ename": "AttributeError",
     "evalue": "'list' object has no attribute 'split'",
     "output_type": "error",
     "traceback": [
      "\u001b[1;31m---------------------------------------------------------------------------\u001b[0m",
      "\u001b[1;31mAttributeError\u001b[0m                            Traceback (most recent call last)",
      "\u001b[1;32m~\\AppData\\Local\\Temp/ipykernel_4976/3811962800.py\u001b[0m in \u001b[0;36m<module>\u001b[1;34m\u001b[0m\n\u001b[1;32m----> 1\u001b[1;33m \u001b[0ml\u001b[0m\u001b[1;33m.\u001b[0m\u001b[0msplit\u001b[0m\u001b[1;33m(\u001b[0m\u001b[1;34m'1'\u001b[0m\u001b[1;33m)\u001b[0m\u001b[1;33m\u001b[0m\u001b[1;33m\u001b[0m\u001b[0m\n\u001b[0m",
      "\u001b[1;31mAttributeError\u001b[0m: 'list' object has no attribute 'split'"
     ]
    }
   ],
   "source": [
    "l.split('1')"
   ]
  },
  {
   "cell_type": "code",
   "execution_count": 61,
   "id": "45def72e",
   "metadata": {},
   "outputs": [],
   "source": [
    "lst = ['5','+','5','*','2.5', '-', '2']"
   ]
  },
  {
   "cell_type": "code",
   "execution_count": 67,
   "id": "aec4489e",
   "metadata": {},
   "outputs": [],
   "source": [
    "strr = ''.join(lst)"
   ]
  },
  {
   "cell_type": "code",
   "execution_count": 85,
   "id": "f81765a7",
   "metadata": {},
   "outputs": [
    {
     "data": {
      "text/plain": [
       "'5+5*2.5-2'"
      ]
     },
     "execution_count": 85,
     "metadata": {},
     "output_type": "execute_result"
    }
   ],
   "source": [
    "strr"
   ]
  },
  {
   "cell_type": "code",
   "execution_count": 70,
   "id": "69036375",
   "metadata": {},
   "outputs": [],
   "source": [
    "import re"
   ]
  },
  {
   "cell_type": "code",
   "execution_count": 82,
   "id": "ab9a58a0",
   "metadata": {},
   "outputs": [
    {
     "data": {
      "text/plain": [
       "['5+5', '2.5-2']"
      ]
     },
     "execution_count": 82,
     "metadata": {},
     "output_type": "execute_result"
    }
   ],
   "source": [
    "re.split('\\+ |\\- |\\*',strr)"
   ]
  },
  {
   "cell_type": "code",
   "execution_count": 84,
   "id": "99a665c3",
   "metadata": {},
   "outputs": [
    {
     "data": {
      "text/plain": [
       "['Beautiful', 'is', 'better', 'than', 'ugly']"
      ]
     },
     "execution_count": 84,
     "metadata": {},
     "output_type": "execute_result"
    }
   ],
   "source": [
    "a='Beautiful- is+ better*than\\nugly'\n",
    "import re\n",
    "re.split('\\+ |- |\\*|\\n',a)"
   ]
  },
  {
   "cell_type": "code",
   "execution_count": 92,
   "id": "c43596a0",
   "metadata": {},
   "outputs": [
    {
     "data": {
      "text/plain": [
       "['5', '5', '2.5', '2']"
      ]
     },
     "execution_count": 92,
     "metadata": {},
     "output_type": "execute_result"
    }
   ],
   "source": [
    "re.split('\\+|\\*|-', strr)"
   ]
  },
  {
   "cell_type": "code",
   "execution_count": 97,
   "id": "72c0ab26",
   "metadata": {},
   "outputs": [
    {
     "data": {
      "text/plain": [
       "False"
      ]
     },
     "execution_count": 97,
     "metadata": {},
     "output_type": "execute_result"
    }
   ],
   "source": [
    "a = [1, 2, 2, '+']\n",
    "a[-1].isdigit()"
   ]
  },
  {
   "cell_type": "code",
   "execution_count": null,
   "id": "6987785a",
   "metadata": {},
   "outputs": [],
   "source": []
  },
  {
   "cell_type": "code",
   "execution_count": null,
   "id": "ac616e9b",
   "metadata": {},
   "outputs": [],
   "source": [
    "y = 2x\n",
    "y = 5x + 3\n",
    "y = 7x - 3x + 8"
   ]
  },
  {
   "cell_type": "code",
   "execution_count": 106,
   "id": "2fe564e5",
   "metadata": {},
   "outputs": [
    {
     "name": "stdout",
     "output_type": "stream",
     "text": [
      "['2', '2', '2', '2', '2']\n"
     ]
    }
   ],
   "source": [
    "import re\n",
    "strr = '2+2-2/2*2'\n",
    "lst = re.split('[+*\\-√/]', strr)\n",
    "print(lst)"
   ]
  },
  {
   "cell_type": "code",
   "execution_count": null,
   "id": "ab64b99e",
   "metadata": {},
   "outputs": [],
   "source": []
  },
  {
   "cell_type": "code",
   "execution_count": null,
   "id": "6dd15e60",
   "metadata": {},
   "outputs": [],
   "source": []
  },
  {
   "cell_type": "code",
   "execution_count": 1,
   "id": "73708a49",
   "metadata": {},
   "outputs": [],
   "source": [
    "st = '\\n 1 | 2 | 3 \\n-----------\\n 4 | 5 | 6 \\n-----------\\n 7 | 8 | 9 \\n'"
   ]
  },
  {
   "cell_type": "code",
   "execution_count": 7,
   "id": "5ab37f32",
   "metadata": {},
   "outputs": [],
   "source": [
    "if '5' in st:\n",
    "    st = st.replace('5', 'X')"
   ]
  },
  {
   "cell_type": "code",
   "execution_count": 8,
   "id": "b8a6a44a",
   "metadata": {},
   "outputs": [
    {
     "data": {
      "text/plain": [
       "'\\n 1 | 2 | 3 \\n-----------\\n 4 | X | 6 \\n-----------\\n 7 | 8 | 9 \\n'"
      ]
     },
     "execution_count": 8,
     "metadata": {},
     "output_type": "execute_result"
    }
   ],
   "source": [
    "st"
   ]
  },
  {
   "cell_type": "code",
   "execution_count": 9,
   "id": "19153558",
   "metadata": {},
   "outputs": [
    {
     "data": {
      "text/plain": [
       "False"
      ]
     },
     "execution_count": 9,
     "metadata": {},
     "output_type": "execute_result"
    }
   ],
   "source": [
    "'5' in st"
   ]
  },
  {
   "cell_type": "code",
   "execution_count": 10,
   "id": "afe7b5d5",
   "metadata": {},
   "outputs": [
    {
     "data": {
      "text/plain": [
       "'\\n 1 | 2 | 3 \\n-----------\\n 4 | X | 6 \\n-----------\\n 7 | 8 | 9 \\n'"
      ]
     },
     "execution_count": 10,
     "metadata": {},
     "output_type": "execute_result"
    }
   ],
   "source": [
    "st.replace('5', 'X')"
   ]
  },
  {
   "cell_type": "code",
   "execution_count": 28,
   "id": "2b6fe605",
   "metadata": {},
   "outputs": [
    {
     "name": "stdout",
     "output_type": "stream",
     "text": [
      "\n",
      " 0\n",
      "  1\n",
      "1 2\n",
      "  3\n",
      "| 4\n",
      "  5\n",
      "2 6\n",
      "  7\n",
      "| 8\n",
      "  9\n",
      "3 10\n",
      "  11\n",
      "\n",
      " 12\n",
      "- 13\n",
      "- 14\n",
      "- 15\n",
      "- 16\n",
      "- 17\n",
      "- 18\n",
      "- 19\n",
      "- 20\n",
      "- 21\n",
      "- 22\n",
      "- 23\n",
      "\n",
      " 24\n",
      "  25\n",
      "4 26\n",
      "  27\n",
      "| 28\n",
      "  29\n",
      "5 30\n",
      "  31\n",
      "| 32\n",
      "  33\n",
      "6 34\n",
      "  35\n",
      "\n",
      " 36\n",
      "- 37\n",
      "- 38\n",
      "- 39\n",
      "- 40\n",
      "- 41\n",
      "- 42\n",
      "- 43\n",
      "- 44\n",
      "- 45\n",
      "- 46\n",
      "- 47\n",
      "\n",
      " 48\n",
      "  49\n",
      "7 50\n",
      "  51\n",
      "| 52\n",
      "  53\n",
      "8 54\n",
      "  55\n",
      "| 56\n",
      "  57\n",
      "9 58\n",
      "  59\n",
      "\n",
      " 60\n"
     ]
    }
   ],
   "source": [
    "Tablee = '\\n   |   |   \\n-----------\\n   |   |   \\n-----------\\n   |   |   \\n'\n",
    "o = 0\n",
    "for i in Table:\n",
    "    print(i, o)\n",
    "    o += 1\n"
   ]
  },
  {
   "cell_type": "code",
   "execution_count": 12,
   "id": "69011711",
   "metadata": {},
   "outputs": [
    {
     "name": "stdout",
     "output_type": "stream",
     "text": [
      "\n",
      " 0\n",
      "  1\n",
      "1 2\n",
      "  3\n",
      "| 4\n",
      "  5\n",
      "2 6\n",
      "  7\n",
      "| 8\n",
      "  9\n",
      "3 10\n",
      "  11\n",
      "\n",
      " 12\n",
      "- 13\n",
      "- 14\n",
      "- 15\n",
      "- 16\n",
      "- 17\n",
      "- 18\n",
      "- 19\n",
      "- 20\n",
      "- 21\n",
      "- 22\n",
      "- 23\n",
      "\n",
      " 24\n",
      "  25\n",
      "4 26\n",
      "  27\n",
      "| 28\n",
      "  29\n",
      "5 30\n",
      "  31\n",
      "| 32\n",
      "  33\n",
      "6 34\n",
      "  35\n",
      "\n",
      " 36\n",
      "- 37\n",
      "- 38\n",
      "- 39\n",
      "- 40\n",
      "- 41\n",
      "- 42\n",
      "- 43\n",
      "- 44\n",
      "- 45\n",
      "- 46\n",
      "- 47\n",
      "\n",
      " 48\n",
      "  49\n",
      "7 50\n",
      "  51\n",
      "| 52\n",
      "  53\n",
      "8 54\n",
      "  55\n",
      "| 56\n",
      "  57\n",
      "9 58\n",
      "  59\n",
      "\n",
      " 60\n"
     ]
    }
   ],
   "source": [
    "Table = '\\n 1 | 2 | 3 \\n-----------\\n 4 | 5 | 6 \\n-----------\\n 7 | 8 | 9 \\n'\n",
    "o = 0\n",
    "for i in Table:\n",
    "    print(i, o)\n",
    "    o += 1"
   ]
  },
  {
   "cell_type": "code",
   "execution_count": 13,
   "id": "0310b33f",
   "metadata": {},
   "outputs": [],
   "source": [
    "Table = '\\n 1 | 2 | 3 \\n-----------\\n 4 | 5 | 6 \\n-----------\\n 7 | 8 | 9 \\n'"
   ]
  },
  {
   "cell_type": "code",
   "execution_count": 14,
   "id": "84e6febc",
   "metadata": {},
   "outputs": [
    {
     "data": {
      "text/plain": [
       "'\\n'"
      ]
     },
     "execution_count": 14,
     "metadata": {},
     "output_type": "execute_result"
    }
   ],
   "source": [
    "Table[0]"
   ]
  },
  {
   "cell_type": "code",
   "execution_count": null,
   "id": "bfede9cc",
   "metadata": {},
   "outputs": [],
   "source": [
    "1 2  3   4  5  6   7   8  9\n",
    "\n",
    "2 6 10  26 30 34   50 54 58"
   ]
  },
  {
   "cell_type": "code",
   "execution_count": 15,
   "id": "563dccae",
   "metadata": {},
   "outputs": [],
   "source": [
    "dictt = {1:2, 2:6, 3:10, 4:26, 5:30, 6:34, 7:50, 8:54, 9:58}"
   ]
  },
  {
   "cell_type": "code",
   "execution_count": 16,
   "id": "a9167403",
   "metadata": {},
   "outputs": [
    {
     "data": {
      "text/plain": [
       "2"
      ]
     },
     "execution_count": 16,
     "metadata": {},
     "output_type": "execute_result"
    }
   ],
   "source": [
    "dictt[1]"
   ]
  },
  {
   "cell_type": "code",
   "execution_count": 25,
   "id": "bd5a723e",
   "metadata": {},
   "outputs": [
    {
     "data": {
      "text/plain": [
       "'\\n 1 | 2 | 3 \\nX----------\\n 4 | X | 6 \\n-----------\\n 7 | 8 | 9 \\n'"
      ]
     },
     "execution_count": 25,
     "metadata": {},
     "output_type": "execute_result"
    }
   ],
   "source": [
    "st.replace(st[20],'X', 1)"
   ]
  },
  {
   "cell_type": "code",
   "execution_count": 20,
   "id": "64f4340d",
   "metadata": {},
   "outputs": [
    {
     "data": {
      "text/plain": [
       "'\\n 1 | 2 | 3 \\n-----------\\n 4 | X | 6 \\n-----------\\n 7 | 8 | 9 \\n'"
      ]
     },
     "execution_count": 20,
     "metadata": {},
     "output_type": "execute_result"
    }
   ],
   "source": [
    "st"
   ]
  },
  {
   "cell_type": "code",
   "execution_count": 31,
   "id": "3ddd6ef7",
   "metadata": {},
   "outputs": [
    {
     "data": {
      "text/plain": [
       "'\\n 1 | 2 | 3 \\n-----------\\n 4 | X | X \\n-----------\\n 7 | 8 | 9 \\n'"
      ]
     },
     "execution_count": 31,
     "metadata": {},
     "output_type": "execute_result"
    }
   ],
   "source": [
    "string = st\n",
    "position = 34\n",
    "new_character = 'X'\n",
    "\n",
    "st[:position] + new_character + st[position+1:]\n"
   ]
  },
  {
   "cell_type": "code",
   "execution_count": 6,
   "id": "bf582981",
   "metadata": {},
   "outputs": [
    {
     "data": {
      "text/plain": [
       "86.67"
      ]
     },
     "execution_count": 6,
     "metadata": {},
     "output_type": "execute_result"
    }
   ],
   "source": [
    "face_dis = [0.4, 0.7, 0.1333\n",
    "           ]\n",
    "round(100 - (min(face_dis) * 100), 2)"
   ]
  },
  {
   "cell_type": "code",
   "execution_count": null,
   "id": "b4fc0209",
   "metadata": {},
   "outputs": [],
   "source": []
  }
 ],
 "metadata": {
  "kernelspec": {
   "display_name": "Python 3 (ipykernel)",
   "language": "python",
   "name": "python3"
  },
  "language_info": {
   "codemirror_mode": {
    "name": "ipython",
    "version": 3
   },
   "file_extension": ".py",
   "mimetype": "text/x-python",
   "name": "python",
   "nbconvert_exporter": "python",
   "pygments_lexer": "ipython3",
   "version": "3.9.7"
  }
 },
 "nbformat": 4,
 "nbformat_minor": 5
}
